{
 "cells": [
  {
   "cell_type": "markdown",
   "metadata": {},
   "source": [
    "# What Can You Learn from Cross-Site Aggregation? -- Teacher Version\n",
    "\n",
    "#### This exercise is part of the *Teaching Privacy* curriculum, which you can find at https://teachingprivacy.org.\n",
    "\n",
        "Full background for the exercise can be found in <a href=\"https://teachingprivacy.org/module-3-information-is-valuable/\" target=\"_blank\">Teaching Privacy Module 3: Information Is Valuable</a>.\n",
   "\n",
    "In this exercise, you will aggregate data about a character named Kai Peroc from Tumblr and Twitter:<br>\n",
    "https://twitter.com/kaiperoc<br>\n",
    "https://kaiperoc.tumblr.com\n"
   ]
  },
   {
   "cell_type": "markdown",
   "metadata": {},
   "source": [
    "## Part 1: Install the API Libraries\n",
    "\n",
    "### Tumblr API\n",
    "\n",
    "To access the Tumblr API, you will use the PyTumblr library. To install it, run the following in your terminal:\n",
    "\n",
    "**sudo pip install oauth oauth2 pytumblr**\n",
    "\n",
    "If this doesn't work, check the <a href=\"https://github.com/tumblr/pytumblr\" target=\"_blank\">PyTumblr</a> readme file for the most up-to-date installation instructions. \n",
    "\n",
    "*For more on getting and using **pip**, check out <a href=\"https://pip.pypa.io/en/stable/\" target=\"_blank\">the documentation</a> or <a href=\"https://www.w3schools.com/python/python_pip.asp\" target=\"_blank\">the w3schools tutorial</a>.*\n",
    "\n"
       ]
  }, 
  {
   "cell_type": "markdown",
   "metadata": {},
   "source": [
    "### Twitter API\n",
    "\n",
    "To access the Twitter API, you will use the Tweepy library. To install it, try running the following in your terminal:\n",
    "\n",
    "**pip install tweepy**\n",
    "\n",
    "If this doesn't work, check the readme file at https://github.com/tweepy/tweepy for the most up-to-date installation instructions. \n",
    "\n"
       ]
  },
  {
   "cell_type": "markdown",
   "metadata": {},
   "source": [
    "### Import\n",
    "\n",
    "Now run the cell below to import the appropriate packages."
   ]
  },
  {
   "cell_type": "code",
   "execution_count": 2,
   "metadata": {
    "collapsed": true
   },
   "outputs": [],
   "source": [
    "import pytumblr\n",
    "import tweepy\n",
    "from tweepy import TweepError\n",
    "import json\n",
    "import re"
   ]
  },
  {
   "cell_type": "markdown",
   "metadata": {},
   "source": [
    "## Part 2: Create Tumblr App and Get Access Tokens\n",
    "\n",
    "### Create a Tumblr App\n",
    "\n",
    "1. Go to https://www.tumblr.com/oauth/apps. You will need to create a Tumblr account if you don't have one already or don't want to use your existing account for this purpose.\n",
    "2. Click on 'Register application'.\n",
    "3. Fill out the required fields. For the 'Application website' and 'Callback URL', you can use a placeholder (such as https://teachingprivacy.org); note that the URLs must match.\n",
    "\n"
       ]
  },
  {
   "cell_type": "markdown",
   "metadata": {},
   "source": [
    "### Obtain Tumblr API Keys\n",
    "\n",
    "Go into the app you created. You should see your oauth consumer key and your secret key.\n",
    "\n",
    "Go to https://api.tumblr.com/console and copy and paste these keys into the appropriate fields to get your oauth token and oauth secret key.\n",
    "\n",
    "When using APIs that require tokens and keys for authentication, it is common practice to keep your keys in a separate JSON file, to protect yourself and the app's users. Your key file should not be posted in public repositories, and you should *never* share your keys. \n",
    "\n",
    "Create a new file called **tumblr_keys.json** with the format below. Paste your keys between the empty quotation marks. (Make sure you don't overwrite the quotation marks!) <br> <br>\n",
    "{ <br>\n",
    "   \"api_key\": \"\" <br>\n",
    "   \"api_secret\":  \"\", <br>\n",
    "   \"oauth_token\": \"\", <br>\n",
    "   \"oauth_secret\": \"\" <br>\n",
    "}\n"
]
  },
  {
   "cell_type": "markdown",
   "metadata": {},
   "source": [
    "## Part 3: Create Twitter App and Get Access Tokens\n",
    "\n",
    "### Create a Twitter App\n",
    "\n",
    "1. Go to https://apps.twitter.com and click 'Sign In'. If you don't have a Twitter account or don't want to use your current Twitter account, you will need to create one.\n",
    "2. Click on 'Create New App'.\n",
    "3. Give your app a Name, Description, and Website. For the website, you can use a placeholder (such as https://teachingprivacy.org)."
   ]
  },
  {
   "cell_type": "markdown",
   "metadata": {},
   "source": [
    "### Obtain Twitter API Keys \n",
    "\n",
    "Create a new text file named **twitter_keys.json** with the following format:\n",
    "\n",
    "{ <br>\n",
    "   \"consumer_key\":\"\", <br>\n",
    "   \"consumer_secret\":  \"\", <br>\n",
    "   \"access_token\": \"\", <br>\n",
    "   \"access_token_secret\": \"\" <br>\n",
    "}\n",
    "<br>\n",
    "1. Go into the app you created in the previous step and go to the 'Keys and Access Tokens' tab. \n",
    "2. Copy and paste the tokens and keys for the corresponding variables into your JSON file. <br>\n",
    "    a. You will need to click 'Create my access token' when you first create your app. <br>\n",
    "    b. Make sure you copy and paste the tokens *inside* the quotation marks.\n",
    "\n"
    ]
  },
  {
   "cell_type": "markdown",
   "metadata": {},
   "source": [
    "## Part 4: Assign and Verify Your API Keys\n",
    "\n",
    "### Assign the Keys\n",
    "\n",
    "Run the cell below to assign your keys to the **keys** variable.\n"
   ]
  },
  {
   "cell_type": "code",
   "execution_count": 3,
   "metadata": {
    "collapsed": true
   },
   "outputs": [],
   "source": [
    "twitter_keys_file = 'twitter_keys.json'\n",
    "tumblr_keys_file = 'tumblr_keys.json'\n",
    "with open(twitter_keys_file) as file:\n",
    "    twitter_keys = json.load(file)\n",
    "with open(tumblr_keys_file) as file:\n",
    "    tumblr_keys = json.load(file)"
   ]
  },
   {
   "cell_type": "markdown",
   "metadata": {},
   "source": [
    "### Establish Your Tumblr API\n",
    "\n",
    "Now that you have set up your keys, run the cell below to establish your Tumblr API."
   ]
  },
  {
   "cell_type": "code",
   "execution_count": 4,
   "metadata": {},
   "outputs": [
    {
     "data": {
      "text/plain": [
       "{'user': {'blogs': [{'admin': True,\n",
       "    'ask': True,\n",
       "    'ask_anon': True,\n",
       "    'ask_page_title': 'Ask me anything',\n",
       "    'can_send_fan_mail': True,\n",
       "    'can_submit': True,\n",
       "    'can_subscribe': False,\n",
       "    'description': 'The Office, music, and friends. #CarpeDiem',\n",
       "    'drafts': 0,\n",
       "    'facebook': 'N',\n",
       "    'facebook_opengraph_enabled': 'N',\n",
       "    'followed': False,\n",
       "    'followers': 394,\n",
       "    'is_blocked_from_primary': False,\n",
       "    'likes': 8807,\n",
       "    'messages': 4,\n",
       "    'name': 'ratchetmessiah',\n",
       "    'posts': 16636,\n",
       "    'primary': True,\n",
       "    'queue': 0,\n",
       "    'share_likes': True,\n",
       "    'submission_page_title': 'Submit a post',\n",
       "    'submission_terms': {'accepted_types': ['text',\n",
       "      'photo',\n",
       "      'quote',\n",
       "      'link',\n",
       "      'video'],\n",
       "     'guidelines': '',\n",
       "     'tags': [],\n",
       "     'title': 'Submit a post'},\n",
       "    'subscribed': False,\n",
       "    'title': 'Swagalicious Fergalicious Blog',\n",
       "    'total_posts': 16636,\n",
       "    'tweet': 'N',\n",
       "    'twitter_enabled': False,\n",
       "    'twitter_send': False,\n",
       "    'type': 'public',\n",
       "    'updated': 1496643575,\n",
       "    'url': 'http://ratchetmessiah.tumblr.com/'},\n",
       "   {'admin': True,\n",
       "    'ask': False,\n",
       "    'ask_anon': False,\n",
       "    'ask_page_title': 'Ask me anything',\n",
       "    'can_send_fan_mail': True,\n",
       "    'can_subscribe': True,\n",
       "    'description': \"I was bored so I made this blog! :D\\nI have a blog that's supposed to be funny too!\",\n",
       "    'drafts': 0,\n",
       "    'facebook': 'N',\n",
       "    'facebook_opengraph_enabled': 'N',\n",
       "    'followed': True,\n",
       "    'followers': 1,\n",
       "    'is_blocked_from_primary': False,\n",
       "    'messages': 0,\n",
       "    'name': 'thiswasfree',\n",
       "    'posts': 77,\n",
       "    'primary': False,\n",
       "    'queue': 0,\n",
       "    'share_likes': False,\n",
       "    'subscribed': False,\n",
       "    'title': 'This was Free',\n",
       "    'total_posts': 77,\n",
       "    'tweet': 'N',\n",
       "    'twitter_enabled': False,\n",
       "    'twitter_send': False,\n",
       "    'type': 'public',\n",
       "    'updated': 1379866855,\n",
       "    'url': 'http://thiswasfree.tumblr.com/'}],\n",
       "  'default_post_format': 'html',\n",
       "  'following': 45,\n",
       "  'likes': 8807,\n",
       "  'name': 'ratchetmessiah'}}"
      ]
     },
     "execution_count": 4,
     "metadata": {},
     "output_type": "execute_result"
    }
   ],
   "source": [
    "client = pytumblr.TumblrRestClient(\n",
    "    tumblr_keys['api_key'],\n",
    "    tumblr_keys['api_secret'],\n",
    "    tumblr_keys['oauth_token'],\n",
    "    tumblr_keys['oauth_secret'],\n",
    ")\n",
    "client.info()"
   ]
  },
   {
   "cell_type": "markdown",
   "metadata": {},
   "source": [
   "### Check Twitter Keys\n",
    "\n",
    "Run the cell below to check whether you have set up the Twitter keys correctly."
   ]
  },
  {
   "cell_type": "code",
   "execution_count": 5,
   "metadata": {},
   "outputs": [
    {
     "name": "stdout",
     "output_type": "stream",
     "text": [
      "You have correctly set up your API keys. Your username is: ImKarloss\n"
     ]
    }
   ],
   "source": [
    "try:\n",
    "    auth = tweepy.OAuthHandler(twitter_keys[\"api_key\"], twitter_keys[\"api_secret\"])\n",
    "    auth.set_access_token(twitter_keys[\"access_token\"], twitter_keys[\"access_token_secret\"])\n",
    "    api = tweepy.API(auth)\n",
    "    print(\"You have correctly set up your API keys. Your username is:\", api.auth.get_username())\n",
    "except TweepError as e:\n",
    "    print(\"Tweepy found an error. Revisit your keys.json file and make sure you have the correct keys.\")"
   ]
  },
  {
   "cell_type": "markdown",
   "metadata": {},
   "source": [
    "## Part 5: Gather Some Data\n",
    "\n",
    "Now that you've set up the API, let's see what data you can get from someone's social media accounts.\n"
       ]
  },
   {
   "cell_type": "markdown",
   "metadata": {},
   "source": [
    "### Gather Tumblr Posts\n",
    "\n",
    "With the help of the <a href=\"https://github.com/tumblr/pytumblr\" target=\"_blank\">PyTumblr</a> documentation, grab all of Kai Peroc's Tumblr posts and store them in the array provided. \n",
    "\n",
    "The example in the cell below contains a line that uses regular expressions (regex) to remove the html tags in posts.\n"
   ]
  },
  {
   "cell_type": "code",
   "execution_count": 8,
   "metadata": {},
   "outputs": [
    {
     "name": "stdout",
     "output_type": "stream",
     "text": [
      "This string has an .\n"
     ]
    }
   ],
   "source": [
    "regex = re.compile('<.*?>')\n",
    "old = \"This string has an <html tag>.\"\n",
    "new = re.sub(regex, '', old)\n",
    "print(new)"
   ]
  },
    {
   "cell_type": "markdown",
   "metadata": {},
   "source": [
    "*Hints:*<br>\n",
        "*1. Look for the .posts method in the documentation.*<br>\n",
    "*2. When looking for posts, note that not all types of posts will have the same tags. Look in the 'body' or 'caption' tags.*<br>\n",
    "*3. To get all the posts, store them in a variable like **tumblr_call** when you call the .posts method and iterate through them with a for loop.*<br>\n",
        "\n"
   ]
  },
  {
   "cell_type": "code",
   "execution_count": 9,
   "metadata": {},
   "outputs": [
    {
     "data": {
      "text/plain": [
       "['Just got an iPhone 6S; text me!\\xa0605-475-6961',\n",
       " 'Woo! Accepted to UC Berkeley Class of 2019! Proud to be a bear! \\u202a#\\u200eBerkeleyBound\\u202c']"
      ]
     },
     "execution_count": 9,
     "metadata": {},
     "output_type": "execute_result"
    }
   ],
   "source": [
    "tumblr_posts = []\n",
    "tumblr_call = client.posts(\"kaiperoc\")\n",
    "for post in tumblr_call['posts']:\n",
    "    if 'body' in post:\n",
    "        clean_post = re.sub(regex, '', post['body'])\n",
    "        tumblr_posts.append(clean_post)\n",
    "    else:\n",
    "        clean_post = re.sub(regex, '', post['caption'])\n",
    "        tumblr_posts.append(clean_post)\n",
    "tumblr_posts"
   ]
  },
  {
   "cell_type": "markdown",
   "metadata": {},
   "source": [
        "### Gather Twitter Posts\n",
    "\n",
    "Now, with help from <a href=\"http://tweepy.readthedocs.io/en/v3.5.0/\" target=\"_blank\">the Tweepy documentation</a>, grab Kai Peroc's most-recent tweets and store them in the array provided.\n",
    "\n",
    "*Hint: Look for a method to return the user timeline under 'API Reference': http://docs.tweepy.org/en/v3.5.0/api.html#timeline-methods *"
   ]
  },
  {
   "cell_type": "code",
   "execution_count": 12,
   "metadata": {},
   "outputs": [
    {
     "data": {
      "text/plain": [
       "['Fellow incoming #berkeley #classof19 there is a great sandwich spot on Shattuck called The Sandwich Spot! http://t.co/OJXDIbU8Mp',\n",
       " \"Can't wait to see it live in person!  https://t.co/5e1kePRzXK\",\n",
       " \"Cut out of work early last night to go to the A's game. Totally worth it! #athletics #stomper http://t.co/zOLEhPmvHD\",\n",
       " 'I guess the question Tilt asked all those years ago is finally answered. It was condemned. https://t.co/U8Coat3L1w #berkeleypier',\n",
       " \"So proud to be a part of the class of '19! #berkeleybound https://t.co/3NwpZS7B0o\",\n",
       " '@TheBerkStaff @Student_Store I love walking around this beautiful campus on a gorgeous summer day! So many school colors on show! #gobears',\n",
       " 'Ugh, parking around campus. #amiright #berkeley',\n",
       " 'Good stuff! https://t.co/1zTyjHoKot',\n",
       " 'Have you heard about CRISPR?! It could be a cure of EVERYTHING! #science #is #rad  https://t.co/J6BKr5GH6V',\n",
       " 'omgosh so scary! What if you were in the presence of this guy?! #LionsTigersAndBears #OhMy! https://t.co/5bMClgYw6d',\n",
       " \"Who's taking me to the game? :) https://t.co/vvVDtORtyT\",\n",
       " 'So cool, right?! https://t.co/IgsnweyzQ6',\n",
       " \"Just finished #Armada, Ernest Cline (Ready Player One)'s new book. It was SO GOOOOOOOOD. Read it, yo.\",\n",
       " \"Lunch was delicious! I'm definitely going back! http://t.co/EMjrURiapf\",\n",
       " '@KarlTheFog makes an appearance in the #EastBay!',\n",
       " \"Nothin' like an Indian Rock sunset. I'm loving it here in Berkeley! http://t.co/nfLKqxrkbo\",\n",
       " '\"Always remember you are braver than you believe, stronger than you seem, and smarter than you think\" —A. A. Milne',\n",
       " 'Is everyone else in this lecture hall as bored as I am? Sigh.',\n",
       " 'If you see me roll up on a red prius with a Cal sticker on the back, come say hi! :)',\n",
       " 'I am going out with my family to the beach all day today! So excited! :D',\n",
       " \"Follow me on @facebook! Bringin' it back.\\nhttps://t.co/Z202FNE4v3\",\n",
       " 'When summer is gloomy &lt;&lt;&lt;\\nThis Bay Area fog is no joke!',\n",
       " 'New iPhone 6S; call me maybe. 605-475-6961',\n",
       " 'Woo! Accepted to UC Berkeley Class of 2019! Proud to be a bear! #berkeleybound http://t.co/HElAN5blzD']"
      ]
     },
     "execution_count": 12,
     "metadata": {},
     "output_type": "execute_result"
    }
   ],
   "source": [
    "twitter_posts = []\n",
    "twitter_call = api.user_timeline(screen_name=\"kaiperoc\", count=100)\n",
    "for tweet in twitter_call:\n",
    "    twitter_posts.append(tweet._json['text'])\n",
    "twitter_posts"
   ]
  },
  {
   "cell_type": "markdown",
   "metadata": {},
   "source": [
    "## Part 6: Aggregate the Data\n",
    "\n",
    "Now that you have Kai's data from two different social media accounts, it's time to aggregate."
   ]
  },
  {
   "cell_type": "code",
   "execution_count": 11,
   "metadata": {},
   "outputs": [
    {
     "data": {
      "text/plain": [
       "['Fellow incoming #berkeley #classof19 there is a great sandwich spot on Shattuck called The Sandwich Spot! http://t.co/OJXDIbU8Mp',\n",
       " \"Can't wait to see it live in person!  https://t.co/5e1kePRzXK\",\n",
       " \"Cut out of work early last night to go to the A's game. Totally worth it! #athletics #stomper http://t.co/zOLEhPmvHD\",\n",
       " 'I guess the question Tilt asked all those years ago is finally answered. It was condemned. https://t.co/U8Coat3L1w #berkeleypier',\n",
       " \"So proud to be a part of the class of '19! #berkeleybound https://t.co/3NwpZS7B0o\",\n",
       " '@TheBerkStaff @Student_Store I love walking around this beautiful campus on a gorgeous summer day! So many school colors on show! #gobears',\n",
       " 'Ugh, parking around campus. #amiright #berkeley',\n",
       " 'Good stuff! https://t.co/1zTyjHoKot',\n",
       " 'Have you heard about CRISPR?! It could be a cure of EVERYTHING! #science #is #rad  https://t.co/J6BKr5GH6V',\n",
       " 'omgosh so scary! What if you were in the presence of this guy?! #LionsTigersAndBears #OhMy! https://t.co/5bMClgYw6d',\n",
       " \"Who's taking me to the game? :) https://t.co/vvVDtORtyT\",\n",
       " 'So cool, right?! https://t.co/IgsnweyzQ6',\n",
       " \"Just finished #Armada, Ernest Cline (Ready Player One)'s new book. It was SO GOOOOOOOOD. Read it, yo.\",\n",
       " \"Lunch was delicious! I'm definitely going back! http://t.co/EMjrURiapf\",\n",
       " '@KarlTheFog makes an appearance in the #EastBay!',\n",
       " \"Nothin' like an Indian Rock sunset. I'm loving it here in Berkeley! http://t.co/nfLKqxrkbo\",\n",
       " '\"Always remember you are braver than you believe, stronger than you seem, and smarter than you think\" —A. A. Milne',\n",
       " 'Is everyone else in this lecture hall as bored as I am? Sigh.',\n",
       " 'If you see me roll up on a red prius with a Cal sticker on the back, come say hi! :)',\n",
       " 'I am going out with my family to the beach all day today! So excited! :D',\n",
       " \"Follow me on @facebook! Bringin' it back.\\nhttps://t.co/Z202FNE4v3\",\n",
       " 'When summer is gloomy &lt;&lt;&lt;\\nThis Bay Area fog is no joke!',\n",
       " 'New iPhone 6S; call me maybe. 605-475-6961',\n",
       " 'Woo! Accepted to UC Berkeley Class of 2019! Proud to be a bear! #berkeleybound http://t.co/HElAN5blzD',\n",
       " 'Just got an iPhone 6S; text me!\\xa0605-475-6961',\n",
       " 'Woo! Accepted to UC Berkeley Class of 2019! Proud to be a bear! \\u202a#\\u200eBerkeleyBound\\u202c']"
      ]
     },
     "execution_count": 11,
     "metadata": {},
     "output_type": "execute_result"
    }
   ],
   "source": [
    "agg_posts = []\n",
    "for tweet in twitter_posts:\n",
    "    agg_posts.append(tweet)\n",
    "for tumblr_post in tumblr_posts:\n",
    "    agg_posts.append(tumblr_post)\n",
    "\n",
    "agg_posts"
   ]
  },
  {
   "cell_type": "markdown",
   "metadata": {},
   "source": [
    "## Part 7: Brainstorm and Reflect\n",
    "\n",
    "Now that you have data about Kai from two different social media sites, what inferences can you make about xem, about xir interests, likes and dislikes, affiliations, and personality?\n",
    "\n",
    "Compare the data from the two streams.\n",
    "- What similarities do you see? What do those similarities tell you about Kai?\n",
    "- How does the information on each site supplement or contextualize the other?\n",
    "- Are there any notable differences or contradictions?\n",
    "\n",
    "How would the *aggregated* data be more useful than data from a single site for...\n",
    "- An advertiser deciding what products to market to Kai?\n",
    "- A criminal looking for easy targets?\n",
    "- A potential employer Kai had applied to?\n",
    "\n",
    "In which of those situations would it be most useful to automate the process via API?\n"
   ]
  },
  {
   "cell_type": "markdown",
   "metadata": {
    "collapsed": true
   },
   "source": [
"**Teacher Note: Student answers might touch on:**\n",
    "- Persistent likes/interests across time and across both sites (e.g. motivational memes, genetics) are more promising for advertisers.\n",
    "- More precise data about Kai's college, year, and probable age from Twitter contextualizes the data from Tumblr, so advertisers know his demographic.\n",
    "- Advertisers generally do not employ humans to scan individual profiles; they need a lot of data about many people at once to choose targets by algorithm and to compare similar characteristics among those their ad is/isn't successful with.\n",
    "- Home location data from Twitter and shot of valuables on Tumblr provides target for a thief (API is potentially useful to automate the search for targets, for a computer-savvy criminal).\n",
    "- Contradiction between what he says about his absence from school on the two sites shows he hasn't grown up when it comes to prevaricating -- useful for an employer to know (also reinforces how embarrassed he is about the blobberbitis, and anything embarrassing is a gold mine for advertisers).\n"
   ]
  },
  {
   "cell_type": "code",
   "execution_count": null,
   "metadata": {
    "collapsed": true
   },
   "outputs": [],
   "source": []
  }
 ],
 "metadata": {
  "kernelspec": {
   "display_name": "Python 3",
   "language": "python",
   "name": "python3"
  },
  "language_info": {
   "codemirror_mode": {
    "name": "ipython",
    "version": 3
   },
   "file_extension": ".py",
   "mimetype": "text/x-python",
   "name": "python",
   "nbconvert_exporter": "python",
   "pygments_lexer": "ipython3",
   "version": "3.6.1"
  }
 },
 "nbformat": 4,
 "nbformat_minor": 2
}

{
 "cells": [
   {
   "cell_type": "markdown",
   "metadata": {},
   "source": [
    "# What Does Facebook Tell Third Parties? -- Teacher Version (Solutions Only)\n",
    "\n",
    "#### This exercise is part of the *Teaching Privacy* curriculum, which you can find at <a href=\"https://teachingprivacy.org\" target=\"_blank\">https://teachingprivacy.org</a>.\n",
    "\n",
    "Full background for the exercise can be found in <a href=\"https://teachingprivacy.org/module-1-youre-leaving-footprints#mapping\" target=\"_blank\">Teaching Privacy Module 1: You're Leaving Footprints</a>.\n",
     "\n",
    "**This Notebook contains the exercise solutions only. For the full student-facing text of the exercise, see https://teachingprivacy.org/what-does-facebook-tell-third-parties/ **\n"
         ]
  },
  {
   "cell_type": "markdown",
   "metadata": {},
   "source": [
    "## Part 1: Gather Your Tools and Your Keys\n",
    "\n",
    "### Install the Libraries\n",
    "\n",
    "### Set Up API Access and Get Token\n",
    "\n",
    "### Initialize Your App\n",
    "\n"
   ]
  },
  {
   "cell_type": "code",
   "execution_count": null,
   "metadata": {},
   "outputs": [],
   "source": [
    "import urllib3\n",
    "import requests\n",
    "import facebook"
   ]
  },
  {
   "cell_type": "code",
   "execution_count": null,
   "metadata": {},
   "outputs": [],
   "source": [
    "token = \"your-access-token-here\"\n",
    "graph = facebook.GraphAPI(access_token = token, version = 2.7)"
   ]
  },
  {
   "cell_type": "markdown",
   "metadata": {},
   "source": [
    "## Extract Facebook Data on Kai Peroc\n",
    "\n",
    "### Objectify Kai\n",
    "\n",
    "Create an object for Kai using the following command:\n"
   ]
  },
  {
   "cell_type": "code",
   "execution_count": null,
   "metadata": {},
   "outputs": [],
   "source": [
    "kai = graph.request(\"431395783688716\")"
   ]
  },
  {
   "cell_type": "markdown",
   "metadata": {},
   "source": [
    "### Find Some Information\n",
    "\n",
    "Add calls to the code you started writing above.\n",
    "\n",
    "Teacher Note: The following fields are given or listed as required in the directions, but students may extract more fields if they are interested."
   ]
  },
  {
   "cell_type": "code",
   "execution_count": null,
   "metadata": {},
   "outputs": [],
   "source": [
    "kai_info = graph.get_object(id = \"431395783688716\", fields = \"birthday, likes, cover, \n",
    "                            albums, feed\")\n",
    "kai_birthday = kai_info[\"birthday\"]\n",
    "kai_liked_pages = kai_info[\"likes\"]\n",
    "kai_cover = kai_info[\"cover\"]\n",
    "kai_photo_albums = kai_info[\"albums\"]\n",
    "kai_posts = kai_info[\"feed\"]"
   ]
  },
  {
   "cell_type": "markdown",
   "metadata": {},
   "source": [
    "## Part 3 — Bonus Exercise: Extract Facebook Data about Yourself\n",
    "\n"
   ]
  },
  {
   "cell_type": "code",
   "execution_count": null,
   "metadata": {},
   "outputs": [],
   "source": [
    "myself = graph.request(\"me\")\n",
    "my_id = myself[\"id\"]"
   ]
  },
    {
   "cell_type": "markdown",
   "metadata": {},
   "source": [
    "Here are some more interesting fields students can extract for themselves:"
   ]
  },
  {
   "cell_type": "code",
   "execution_count": null,
   "metadata": {},
   "outputs": [],
   "source": [
    "my_info = graph.get_object(id = my_id, fields = \"security_settings, events, family, \n",
    "                           permissions\")\n",
    "my_security_settings = my_info[\"security_settings\"]\n",
    "my_events = my_info[\"events\"]\n",
    "my_family = my_info[\"family\"]\n",
    "my_permissions = my_info[\"permissions\"]"
   ]
  },
  {
   "cell_type": "markdown",
   "metadata": {},
   "source": [
    "## Part 4: Brainstorm and Reflect\n",
    "\n",
    "Teacher Note: Student answers to the questions about third-party apps might touch on:\n",
    "\n",
    "- (Almost) Anyone with the skills can make an app and request data from Facebook that users might not know is shared.<br>\n",
    "- App makers can use the data to make their app function, but can also sell it, use it to decide what advertisements to show Kai, send fake phishing messages from xyr 'friends', etc.<br>\n",
    "- App makers can figure out what types of people use their apps (which they can use to tailor your experience -- cf. Netflix's demographically-specific movie thumbnails -- and also to sell ads), what different types of people tend to like, who is connected to who (and might get them on the app), etc.<br>\n",
    "- If Kai deletes data, it may not be accessible to new apps that request xyr data, but there is no way to reclaim data from apps that already have it.\n"
   ]
  }
 ],
 "metadata": {
  "kernelspec": {
   "display_name": "Python 3",
   "language": "python",
   "name": "python3"
  },
  "language_info": {
   "codemirror_mode": {
    "name": "ipython",
    "version": 3
   },
   "file_extension": ".py",
   "mimetype": "text/x-python",
   "name": "python",
   "nbconvert_exporter": "python",
   "pygments_lexer": "ipython3",
   "version": "3.6.2"
  }
 },
 "nbformat": 4,
 "nbformat_minor": 2
}
